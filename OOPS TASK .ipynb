{
 "cells": [
  {
   "cell_type": "code",
   "execution_count": 15,
   "id": "5c2bbb58-917c-43a7-9411-f6d6c4c85af7",
   "metadata": {},
   "outputs": [
    {
     "name": "stdout",
     "output_type": "stream",
     "text": [
      "Vehicle Name: Car\n",
      "Max Speed: 200 km/h\n",
      "Average Mileage: 15 km/l\n"
     ]
    }
   ],
   "source": [
    "\"\"\"Q1, Create a vehicle class with an init method having instance variables as name_of_vehicle, max_speed\n",
    "and average_of_vehicle.\"\"\"\n",
    "class Vehicle:\n",
    "    def __init__(self, name_of_vehicle, max_speed, average_of_vehicle):\n",
    "        \"\"\"\n",
    "        Initialize the Vehicle class with name, max speed, and average mileage.\n",
    "\n",
    "        :param name_of_vehicle: Name of the vehicle (string)\n",
    "        :param max_speed: Maximum speed of the vehicle (int or float)\n",
    "        :param average_of_vehicle: Average mileage of the vehicle (int or float)\n",
    "        \"\"\"\n",
    "        self.name_of_vehicle = name_of_vehicle\n",
    "        self.max_speed = max_speed\n",
    "        self.average_of_vehicle = average_of_vehicle\n",
    "\n",
    "    def display_details(self):\n",
    "        \"\"\"Display the details of the vehicle.\"\"\"\n",
    "        return (f\"Vehicle Name: {self.name_of_vehicle}\\n\"\n",
    "                f\"Max Speed: {self.max_speed} km/h\\n\"\n",
    "                f\"Average Mileage: {self.average_of_vehicle} km/l\")\n",
    "\n",
    "# Example Usage\n",
    "my_vehicle = Vehicle(\"Car\", 200, 15)\n",
    "print(my_vehicle.display_details())\n"
   ]
  },
  {
   "cell_type": "code",
   "execution_count": 25,
   "id": "f590e19f-00af-4006-89cc-19547b082dbd",
   "metadata": {},
   "outputs": [
    {
     "ename": "IndentationError",
     "evalue": "expected an indented block after function definition on line 15 (3885277731.py, line 17)",
     "output_type": "error",
     "traceback": [
      "\u001b[1;36m  Cell \u001b[1;32mIn[25], line 17\u001b[1;36m\u001b[0m\n\u001b[1;33m    my_car = Car(\"Toyota Camry\", \"Sedan\", 5)\u001b[0m\n\u001b[1;37m                                            ^\u001b[0m\n\u001b[1;31mIndentationError\u001b[0m\u001b[1;31m:\u001b[0m expected an indented block after function definition on line 15\n"
     ]
    }
   ],
   "source": [
    "\"\"\"Q2. Create a child class car from the vehicle class created in Que 1, which will inherit the vehicle class.\n",
    "Create a method named seating_capacity which takes capacity as an argument and returns the name of\n",
    "the vehicle and its seating capacity.\"\"\"\n",
    "\"\"\"ANS : Step 1: Define the Parent Class Vehicle\n",
    "First, create the Vehicle class with some basic attributes.\"\"\"\n",
    "class Vehicle:\n",
    "    def __init__(self, name, type_of_vehicle):\n",
    "        \n",
    "        self.type_of_vehicle = type_of_vehicle\n",
    "\n",
    "    def vehicle_info(self):\n",
    "        return f\"Vehicle Name: {self.name}, Type: {self.type_of_vehicle}\"\n",
    "#The Car class will inherit from Vehicle and add the seating_capacity method.\n",
    "class Car(Vehicle):\n",
    "    def __init__(self, name, type_of_vehicle, capacity):\n",
    "        # Call the parent class construc# Create an object of the Car class\n",
    "my_car = Car(\"Toyota Camry\", \"Sedan\", 5)\n",
    "\n",
    "# Call the seating_capacity method\n",
    "print(my_car.seating_capacity())  # Output: The Toyota Camry has a seating capacity of 5.\n",
    "tor\n",
    "        super().__init__(name, type_of_vehicle)\n",
    "        self.capacity = capacity\n",
    "Step 3: Create an Object of Car and Use the Method\n",
    "# Create an object of the Car class\n",
    "    my_car = Car(\"Toyota Camry\", \"Sedan\", 5)\n",
    "\n",
    "# Call the seating_capacity method\n",
    "print(my_car.seating_capacity())  # Output: The Toyota Camry has a seating capacity of 5.\n",
    "\n",
    "    def seating_capacity(self):\n",
    "        return f\"The {self.name} has a seating capacity of {self.capacity}.\"\n",
    "\"\"\"Step 3: Create an Object of Car and Use the Method\"\"\"\n",
    "# Create an object of the Car class\n",
    "    my_car = Car(\"Toyota Camry\", \"Sedan\", 5)\n",
    "\n",
    "# Call the seating_capacity method\n",
    "print(my_car.seating_capacity())  # Output: The Toyota Camry has a seating capacity of 5.\n"
   ]
  },
  {
   "cell_type": "code",
   "execution_count": 29,
   "id": "e7f5831c-4513-47e9-b25a-cdd51587c722",
   "metadata": {},
   "outputs": [
    {
     "ename": "IndentationError",
     "evalue": "expected an indented block after class definition on line 2 (109500242.py, line 5)",
     "output_type": "error",
     "traceback": [
      "\u001b[1;36m  Cell \u001b[1;32mIn[29], line 5\u001b[1;36m\u001b[0m\n\u001b[1;33m    class ClassB:\u001b[0m\n\u001b[1;37m    ^\u001b[0m\n\u001b[1;31mIndentationError\u001b[0m\u001b[1;31m:\u001b[0m expected an indented block after class definition on line 2\n"
     ]
    }
   ],
   "source": [
    "#Q3. What is multiple inheritance? Write a python code to demonstrate multiple inheritance.\n",
    "class ClassA:\n",
    "    # ClassA methods and attributes\n",
    "\n",
    "class ClassB:\n",
    "    # ClassB methods and attributes\n",
    "\n",
    "class ClassC(ClassA, ClassB):\n",
    "    # ClassC inherits from both ClassA and ClassB\n",
    "\n",
    "#Example of Multiple Inheritance:\n",
    "# Parent class 1\n",
    "class Animal:\n",
    "    def __init__(self, name):\n",
    "        self.name = name\n",
    "\n",
    "    def sound(self):\n",
    "        return \"Some sound\"\n",
    "\n",
    "# Parent class 2\n",
    "class Bird:\n",
    "    def __init__(self, color):\n",
    "        self.color = color\n",
    "\n",
    "    def fly(self):\n",
    "        return f\"{self.name} is flying!\"\n",
    "\n",
    "# Child class that inherits from both Animal and Bird\n",
    "class Parrot(Animal, Bird):\n",
    "    def __init__(self, name, color):\n",
    "        # Call constructors of both parent classes\n",
    "        Animal.__init__(self, name)\n",
    "        Bird.__init__(self, color)\n",
    "\n",
    "    def talk(self):\n",
    "        return f\"{self.name} is talking!\"\n",
    "\n",
    "# Creating an object of the Parrot class\n",
    "parrot = Parrot(\"Polly\", \"Green\")\n",
    "\n",
    "# Calling methods from both parent classes and the child class\n",
    "print(parrot.sound())     # Output: Some sound (from Animal class)\n",
    "print(parrot.fly())       # Output: Polly is flying! (from Bird class)\n",
    "print(parrot.talk())      # Output: Polly is talking! (from Parrot class)\n"
   ]
  },
  {
   "cell_type": "code",
   "execution_count": 31,
   "id": "cbdebd1c-f963-49c0-8303-0d3894e81e6e",
   "metadata": {},
   "outputs": [
    {
     "name": "stdout",
     "output_type": "stream",
     "text": [
      "Alice\n",
      "30\n",
      "Bob\n",
      "35\n"
     ]
    }
   ],
   "source": [
    "#Q4. What are getter and setter in python? Create a class and create a getter and a setter method in this\n",
    "#class.\n",
    "class Person:\n",
    "    def __init__(self, name, age):\n",
    "        # Private attributes\n",
    "        self._name = name\n",
    "        self._age = age\n",
    "\n",
    "    # Getter for the name\n",
    "    def get_name(self):\n",
    "        return self._name\n",
    "\n",
    "    # Setter for the name\n",
    "    def set_name(self, name):\n",
    "        if name:  # You can add validation logic here\n",
    "            self._name = name\n",
    "        else:\n",
    "            print(\"Name cannot be empty\")\n",
    "\n",
    "    # Getter for the age\n",
    "    def get_age(self):\n",
    "        return self._age\n",
    "\n",
    "    # Setter for the age\n",
    "    def set_age(self, age):\n",
    "        if age > 0:  # Ensuring age is positive\n",
    "            self._age = age\n",
    "        else:\n",
    "            print(\"Age must be positive\")\n",
    "\n",
    "# Create an object of Person\n",
    "person = Person(\"Alice\", 30)\n",
    "\n",
    "# Accessing the attributes using getters\n",
    "print(person.get_name())  # Output: Alice\n",
    "print(person.get_age())   # Output: 30\n",
    "\n",
    "# Modifying the attributes using setters\n",
    "person.set_name(\"Bob\")\n",
    "person.set_age(35)\n",
    "\n",
    "# Accessing the modified attributes\n",
    "print(person.get_name())  # Output: Bob\n",
    "print(person.get_age())   # Output: 35\n"
   ]
  },
  {
   "cell_type": "code",
   "execution_count": 33,
   "id": "38e308be-b985-4f83-8b2f-c6637c755315",
   "metadata": {},
   "outputs": [
    {
     "name": "stdout",
     "output_type": "stream",
     "text": [
      "Animal is making a sound\n",
      "Dog is barking\n",
      "Cat is meowing\n"
     ]
    }
   ],
   "source": [
    "#Q5.What is method overriding in python? Write a python code to demonstrate method overriding.\n",
    "# Parent class\n",
    "class Animal:\n",
    "    def speak(self):\n",
    "        print(\"Animal is making a sound\")\n",
    "\n",
    "# Child class that overrides the speak method\n",
    "class Dog(Animal):\n",
    "    def speak(self):\n",
    "        print(\"Dog is barking\")\n",
    "\n",
    "# Child class that also overrides the speak method\n",
    "class Cat(Animal):\n",
    "    def speak(self):\n",
    "        print(\"Cat is meowing\")\n",
    "\n",
    "# Creating objects of the classes\n",
    "animal = Animal()\n",
    "dog = Dog()\n",
    "cat = Cat()\n",
    "\n",
    "# Calling the speak method on objects of each class\n",
    "animal.speak()  # Output: Animal is making a sound\n",
    "dog.speak()     # Output: Dog is barking\n",
    "cat.speak()     # Output: Cat is meowing\n"
   ]
  },
  {
   "cell_type": "code",
   "execution_count": null,
   "id": "b208fa4b-8110-4be7-8af1-3d35589449d1",
   "metadata": {},
   "outputs": [],
   "source": []
  }
 ],
 "metadata": {
  "kernelspec": {
   "display_name": "Python 3 (ipykernel)",
   "language": "python",
   "name": "python3"
  },
  "language_info": {
   "codemirror_mode": {
    "name": "ipython",
    "version": 3
   },
   "file_extension": ".py",
   "mimetype": "text/x-python",
   "name": "python",
   "nbconvert_exporter": "python",
   "pygments_lexer": "ipython3",
   "version": "3.12.4"
  }
 },
 "nbformat": 4,
 "nbformat_minor": 5
}
